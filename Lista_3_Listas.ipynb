{
  "cells": [
    {
      "cell_type": "markdown",
      "metadata": {
        "id": "view-in-github",
        "colab_type": "text"
      },
      "source": [
        "<a href=\"https://colab.research.google.com/github/SarahSouzaPontes/Residencia_Cubos_Python_Listas_e_Loops/blob/main/Lista_3_Listas.ipynb\" target=\"_parent\"><img src=\"https://colab.research.google.com/assets/colab-badge.svg\" alt=\"Open In Colab\"/></a>"
      ]
    },
    {
      "cell_type": "markdown",
      "metadata": {
        "id": "vIVwnlubp55g"
      },
      "source": [
        "# Exercícios - Listas e Loops"
      ]
    },
    {
      "cell_type": "markdown",
      "metadata": {
        "id": "LTU_SPEwsI5Q"
      },
      "source": [
        "## Ecercício 1\n",
        "\n",
        "Faça um programa que imprima a metade de todos os elementos de uma lista que contém alguns números quaisquer."
      ]
    },
    {
      "cell_type": "code",
      "execution_count": 6,
      "metadata": {
        "colab": {
          "base_uri": "https://localhost:8080/"
        },
        "id": "zS5Yh_Y0p0aG",
        "outputId": "c726b3f5-8ef0-442a-c775-1d398e00fec4"
      },
      "outputs": [
        {
          "output_type": "stream",
          "name": "stdout",
          "text": [
            "0.5\n",
            "2\n",
            "5\n",
            "4.0\n",
            "22.5\n"
          ]
        }
      ],
      "source": [
        "# Resolução: \n",
        "lista = [ 0.5 , 2,5, 4.0, 22.5, 31,0, 39.0, 46.0]\n",
        "tamanho = len(lista)/2\n",
        "contador = 0\n",
        "\n",
        "while contador < tamanho:\n",
        "  print(lista[contador])\n",
        "  #print(f\"{contador} - {lista[contador]}\")\n",
        "  contador += 1"
      ]
    },
    {
      "cell_type": "markdown",
      "metadata": {
        "id": "BBKALJwwslcI"
      },
      "source": [
        "## Exercício 2\n",
        "Faça um programa que calcula e imprime na tela a soma dos itens de uma lista."
      ]
    },
    {
      "cell_type": "code",
      "execution_count": 8,
      "metadata": {
        "colab": {
          "base_uri": "https://localhost:8080/"
        },
        "id": "TnBY4za4ss8p",
        "outputId": "8a63eca4-e8b8-470c-f70e-a630ba5e56d2"
      },
      "outputs": [
        {
          "output_type": "stream",
          "name": "stdout",
          "text": [
            "45\n"
          ]
        }
      ],
      "source": [
        "# Resolução: \n",
        "soma_lista = [1,2,3,4,5,6,7,8,9]\n",
        "soma = 0\n",
        "\n",
        "for num in soma_lista:\n",
        "    soma += num\n",
        "\n",
        "print(soma)"
      ]
    },
    {
      "cell_type": "markdown",
      "metadata": {
        "id": "5lIUTGM7suB7"
      },
      "source": [
        "## Exercício 3\n",
        "Faça um programa que conta quantas letras *“a”* existem numa determinada palavra. Imprima o resultado na tela."
      ]
    },
    {
      "cell_type": "code",
      "execution_count": 1,
      "metadata": {
        "colab": {
          "base_uri": "https://localhost:8080/"
        },
        "id": "VI5FcqM6s0Gb",
        "outputId": "d51f727f-5ea5-4b39-c0c8-0d9e000633bf"
      },
      "outputs": [
        {
          "output_type": "stream",
          "name": "stdout",
          "text": [
            "2\n"
          ]
        }
      ],
      "source": [
        "from posixpath import commonpath\n",
        "\n",
        "# Resolução: \n",
        "\n",
        "palavra = \"Sarah\"\n",
        "contador = palavra.count(\"a\") + palavra.count(\"A\")\n",
        "print(contador)"
      ]
    },
    {
      "cell_type": "markdown",
      "metadata": {
        "id": "oWddM0rbs1lj"
      },
      "source": [
        "## Exercício 4\n",
        "Faça um programa que imprima todos os números pares entre 1 e 50.\n"
      ]
    },
    {
      "cell_type": "code",
      "execution_count": 6,
      "metadata": {
        "colab": {
          "base_uri": "https://localhost:8080/"
        },
        "id": "EHbQqHZws8xF",
        "outputId": "142a596a-8805-4f62-c55b-af88c513f422"
      },
      "outputs": [
        {
          "output_type": "stream",
          "name": "stdout",
          "text": [
            "0\n",
            "2\n",
            "4\n",
            "6\n",
            "8\n",
            "10\n",
            "12\n",
            "14\n",
            "16\n",
            "18\n",
            "20\n",
            "22\n",
            "24\n",
            "26\n",
            "28\n",
            "30\n",
            "32\n",
            "34\n",
            "36\n",
            "38\n",
            "40\n",
            "42\n",
            "44\n",
            "46\n",
            "48\n",
            "50\n"
          ]
        }
      ],
      "source": [
        "# Resolução: \n",
        "for i in range(0,51,2):\n",
        "    print (i)"
      ]
    },
    {
      "cell_type": "markdown",
      "metadata": {
        "id": "W36AYLCfs9xM"
      },
      "source": [
        "## Exercício 5\n",
        "Faça um programa que conte de 10 até 0 (de trás pra frente mesmo)."
      ]
    },
    {
      "cell_type": "code",
      "execution_count": 9,
      "metadata": {
        "colab": {
          "base_uri": "https://localhost:8080/"
        },
        "id": "xtV-CACWVZX7",
        "outputId": "2f7ceda1-1b4e-4b0a-8100-3543f12218c9"
      },
      "outputs": [
        {
          "output_type": "stream",
          "name": "stdout",
          "text": [
            "10\n",
            "9\n",
            "8\n",
            "7\n",
            "6\n",
            "5\n",
            "4\n",
            "3\n",
            "2\n",
            "1\n",
            " FIM\n"
          ]
        }
      ],
      "source": [
        "# Resolução: \n",
        "for c in range(10, 0, -1): #Contando de trás para frente \n",
        "    print(c)\n",
        "print(' FIM')"
      ]
    }
  ],
  "metadata": {
    "colab": {
      "provenance": [],
      "include_colab_link": true
    },
    "kernelspec": {
      "display_name": "Python 3",
      "name": "python3"
    },
    "language_info": {
      "name": "python"
    }
  },
  "nbformat": 4,
  "nbformat_minor": 0
}